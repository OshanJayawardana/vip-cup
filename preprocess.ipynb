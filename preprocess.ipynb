{
  "nbformat": 4,
  "nbformat_minor": 0,
  "metadata": {
    "colab": {
      "name": "preprocess.ipynb",
      "provenance": []
    },
    "kernelspec": {
      "name": "python3",
      "display_name": "Python 3"
    },
    "language_info": {
      "name": "python"
    }
  },
  "cells": [
    {
      "cell_type": "code",
      "source": [
        "! rm -r /content/data/real*\n",
        "! rm -r /content/data/synt*\n",
        "! rm -r /content/data*"
      ],
      "metadata": {
        "id": "q3FP4G0CP0lA"
      },
      "execution_count": null,
      "outputs": []
    },
    {
      "cell_type": "code",
      "source": [
        "! mkdir /content/data\n",
        "! mkdir /content/data/real\n",
        "! mkdir /content/data/synt"
      ],
      "metadata": {
        "id": "lf_NQROKPtFu"
      },
      "execution_count": null,
      "outputs": []
    },
    {
      "cell_type": "code",
      "source": [
        "! wget \"https://nvlabs-fi-cdn.nvidia.com/stylegan3/images/stylegan3-r-afhqv2-512x512/all-files.zip\" --no-check-certificate -c -O \"stle1.zip\"\n",
        "! wget \"https://nvlabs-fi-cdn.nvidia.com/stylegan3/images/stylegan3-r-ffhq-1024x1024/all-files.zip\" --no-check-certificate -c -O \"stle2.zip\"\n",
        "! wget \"https://nvlabs-fi-cdn.nvidia.com/stylegan3/images/stylegan3-r-ffhqu-1024x1024/all-files.zip\" --no-check-certificate -c -O \"stle3.zip\" \n",
        "! wget \"https://nvlabs-fi-cdn.nvidia.com/stylegan3/images/stylegan3-r-metfaces-1024x1024/all-files.zip\" --no-check-certificate -c -O \"stle4.zip\" \n",
        "! wget \"https://nvlabs-fi-cdn.nvidia.com/stylegan3/images/stylegan3-r-metfacesu-1024x1024/all-files.zip\" --no-check-certificate -c -O \"stle5.zip\" \n",
        "! wget \"https://nvlabs-fi-cdn.nvidia.com/stylegan3/images/stylegan3-t-afhqv2-512x512/all-files.zip\" --no-check-certificate -c -O \"stle6.zip\" \n",
        "! wget \"https://nvlabs-fi-cdn.nvidia.com/stylegan3/images/stylegan3-t-ffhq-1024x1024/all-files.zip\" --no-check-certificate -c -O \"stle7.zip\" \n",
        "! wget \"https://nvlabs-fi-cdn.nvidia.com/stylegan3/images/stylegan3-t-ffhqu-1024x1024/all-files.zip\" --no-check-certificate -c -O \"stle8.zip\" \n",
        "! wget \"https://nvlabs-fi-cdn.nvidia.com/stylegan3/images/stylegan3-t-metfaces-1024x1024/all-files.zip\" --no-check-certificate -c -O \"stle9.zip\" \n",
        "! wget \"https://nvlabs-fi-cdn.nvidia.com/stylegan3/images/stylegan3-t-metfacesu-1024x1024/all-files.zip\" --no-check-certificate -c -O \"stle10.zip\" "
      ],
      "metadata": {
        "id": "pAMQPgYFlg1m"
      },
      "execution_count": null,
      "outputs": []
    },
    {
      "cell_type": "code",
      "execution_count": null,
      "metadata": {
        "id": "4TNIFk-FOJzf"
      },
      "outputs": [],
      "source": [
        "! wget \"https://www.grip.unina.it/download/vipcup2022/gated_convolution_inpainting.zip\" --no-check-certificate -c -O \"inpaint.zip\" \n",
        "! wget \"https://www.grip.unina.it/download/vipcup2022/glide.zip\" --no-check-certificate -c -O \"glide.zip\"\n",
        "! wget \"https://heibox.uni-heidelberg.de/f/a395a9be612f4a7a8054/?dl=1\" --no-check-certificate -c -O \"igsm.zip\" "
      ]
    },
    {
      "cell_type": "code",
      "source": [
        "! wget \"https://drive.google.com/uc?export=download&confirm=s5vl&id=1kXvGIEf6Gjk4kEWtda7sbj6uN0Hv9YI-\" -c -O \"synth.zip\""
      ],
      "metadata": {
        "id": "3msB9k7DOwfM"
      },
      "execution_count": null,
      "outputs": []
    },
    {
      "cell_type": "code",
      "source": [
        "! unzip -j -P vippascup /content/inpaint.zip  -d /content/data/synt\n",
        "! unzip -j -B -P vippascup /content/glide.zip  -d /content/data/synt\n",
        "! unzip -j -B -P vippascup /content/igsm.zip -d /content/data/synt"
      ],
      "metadata": {
        "id": "WnYLBu_XRSj1"
      },
      "execution_count": null,
      "outputs": []
    },
    {
      "cell_type": "code",
      "source": [
        "! unzip -j -B -P vippascup /content/stle1.zip -d /content/data/synt\n",
        "! unzip -j -B -P vippascup /content/stle2.zip -d /content/data/synt\n",
        "! unzip -j -B -P vippascup /content/stle3.zip -d /content/data/synt\n",
        "! unzip -j -B -P vippascup /content/stle4.zip -d /content/data/synt\n",
        "! unzip -j -B -P vippascup /content/stle5.zip -d /content/data/synt\n",
        "! unzip -j -B -P vippascup /content/stle6.zip -d /content/data/synt\n",
        "! unzip -j -B -P vippascup /content/stle7.zip -d /content/data/synt\n",
        "! unzip -j -B -P vippascup /content/stle8.zip -d /content/data/synt\n",
        "! unzip -j -B -P vippascup /content/stle9.zip -d /content/data/synt\n",
        "! unzip -j -B -P vippascup /content/stle10.zip -d /content/data/synt"
      ],
      "metadata": {
        "id": "7Ass2TaGoGas"
      },
      "execution_count": null,
      "outputs": []
    },
    {
      "cell_type": "code",
      "source": [
        "! unzip -j -B -P vippascup /content/synth.zip -d /content/data/synt"
      ],
      "metadata": {
        "id": "jNZRA3KoPOyg"
      },
      "execution_count": null,
      "outputs": []
    },
    {
      "cell_type": "code",
      "source": [
        "!wget http://images.cocodataset.org/zips/unlabeled2017.zip --no-check-certificate -c -O \"coco.zip\" "
      ],
      "metadata": {
        "id": "qN97P-9vYCqt"
      },
      "execution_count": null,
      "outputs": []
    },
    {
      "cell_type": "code",
      "source": [
        "! unzip -j -P vippascup /content/coco.zip  -d /content/data/real"
      ],
      "metadata": {
        "id": "0dzFCzC7jYfV"
      },
      "execution_count": null,
      "outputs": []
    },
    {
      "cell_type": "code",
      "source": [
        "! du -sh /content/data/synt # 116019 images\n",
        "! du -sh /content/data/real # 123403 images"
      ],
      "metadata": {
        "colab": {
          "base_uri": "https://localhost:8080/"
        },
        "id": "KSL3GOTKhWst",
        "outputId": "e2737876-d74e-47ed-9ee1-7184678263bf"
      },
      "execution_count": null,
      "outputs": [
        {
          "output_type": "stream",
          "name": "stdout",
          "text": [
            "15G\t/content/data/synt\n",
            "19G\t/content/data/real\n"
          ]
        }
      ]
    },
    {
      "cell_type": "code",
      "source": [
        "! rm /content/coco.zip\n",
        "! rm /content/synth.zip\n",
        "! rm /content/glide.zip\n",
        "! rm /content/igsm.zip\n",
        "! rm /content/inpaint.zip\n",
        "! rm /content/stle1.zip\n",
        "! rm /content/stle2.zip\n",
        "! rm /content/stle3.zip\n",
        "! rm /content/stle4.zip\n",
        "! rm /content/stle5.zip\n",
        "! rm /content/stle6.zip\n",
        "! rm /content/stle7.zip\n",
        "! rm /content/stle8.zip\n",
        "! rm /content/stle9.zip\n",
        "! rm /content/stle10.zip"
      ],
      "metadata": {
        "id": "l-VEc6y9kzJV"
      },
      "execution_count": null,
      "outputs": []
    },
    {
      "cell_type": "code",
      "source": [
        "! rm -r /content/data_pro/real*\n",
        "! rm -r /content/data_pro/synt*\n",
        "! rm -r /content/data_pro*"
      ],
      "metadata": {
        "id": "M5kYXJFPPZaR"
      },
      "execution_count": null,
      "outputs": []
    },
    {
      "cell_type": "code",
      "source": [
        "! mkdir /content/data_pro\n",
        "! mkdir /content/data_pro/real\n",
        "! mkdir /content/data_pro/synt"
      ],
      "metadata": {
        "id": "tRMY1DFvPQxj"
      },
      "execution_count": null,
      "outputs": []
    },
    {
      "cell_type": "code",
      "source": [
        "! wget \"https://gist.githubusercontent.com/OshanJayawardana/5249d90e59329f0c2711eeab44b689ac/raw/cb0fefb612b40a715b40d5db5e212d59bd4a2498/random_operations.py\" --no-check-certificate -c -O \"random_operations.py\""
      ],
      "metadata": {
        "id": "3L4yWeTRcvnU"
      },
      "execution_count": null,
      "outputs": []
    },
    {
      "cell_type": "code",
      "source": [
        "import sys\n",
        "del sys.modules[\"random_operations\"]\n",
        "from random_operations import *"
      ],
      "metadata": {
        "id": "62CXUMTrdEs4"
      },
      "execution_count": null,
      "outputs": []
    },
    {
      "cell_type": "code",
      "source": [
        "input_dir = '/content/data/real/'\n",
        "out_direct = '/content/data_pro/real/'\n",
        "random_operations(input_dir, out_direct, seed = 45)"
      ],
      "metadata": {
        "id": "0RZZDY4AdAR8"
      },
      "execution_count": null,
      "outputs": []
    },
    {
      "cell_type": "code",
      "source": [
        "! rm -r /content/data_pro/synt*\n",
        "! mkdir /content/data_pro/synt"
      ],
      "metadata": {
        "id": "xUbQSgq1wQXG"
      },
      "execution_count": null,
      "outputs": []
    },
    {
      "cell_type": "code",
      "source": [
        "input_dir = '/content/data/synt/'\n",
        "out_direct = '/content/data_pro/synt/'\n",
        "random_operations(input_dir, out_direct, seed = 45)"
      ],
      "metadata": {
        "colab": {
          "base_uri": "https://localhost:8080/"
        },
        "id": "awAK15SWdCPI",
        "outputId": "2221dfc7-693c-4129-e8b3-09060198d7f8"
      },
      "execution_count": null,
      "outputs": [
        {
          "output_type": "stream",
          "name": "stdout",
          "text": [
            "Random Operations from  /content/data/synt/ to /content/data_pro/synt/\n"
          ]
        },
        {
          "output_type": "stream",
          "name": "stderr",
          "text": [
            "100%|██████████| 115999/115999 [20:33<00:00, 94.02it/s] "
          ]
        },
        {
          "output_type": "stream",
          "name": "stdout",
          "text": [
            "/content/data/synt/stylegan2-teaser-512x128.png 512 128\n",
            "File skipped due to file size error\n"
          ]
        },
        {
          "output_type": "stream",
          "name": "stderr",
          "text": [
            "\n"
          ]
        }
      ]
    },
    {
      "cell_type": "code",
      "source": [
        "! du -sh /content/data_pro/synt # 115999 images\n",
        "! du -sh /content/data_pro/real # 123322 images"
      ],
      "metadata": {
        "colab": {
          "base_uri": "https://localhost:8080/"
        },
        "id": "aP8OBUM6pchP",
        "outputId": "fb186117-6d34-4a56-d5ef-2beec227034c"
      },
      "execution_count": null,
      "outputs": [
        {
          "output_type": "stream",
          "name": "stdout",
          "text": [
            "1.6G\t/content/data_pro/synt\n",
            "1.9G\t/content/data_pro/real\n"
          ]
        }
      ]
    },
    {
      "cell_type": "code",
      "source": [
        "! zip -r /content/drive/MyDrive/Datasets/pro_dataset.zip data_pro"
      ],
      "metadata": {
        "id": "B92RYXTs6cg3"
      },
      "execution_count": null,
      "outputs": []
    },
    {
      "cell_type": "code",
      "source": [
        "! rm -r /content/data/real*\n",
        "! rm -r /content/data/synt*\n",
        "! rm -r /content/data*"
      ],
      "metadata": {
        "id": "sNH_jq5llacS"
      },
      "execution_count": null,
      "outputs": []
    }
  ]
}