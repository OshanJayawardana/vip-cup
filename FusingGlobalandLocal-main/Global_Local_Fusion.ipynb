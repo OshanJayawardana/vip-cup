{
  "cells": [
    {
      "cell_type": "markdown",
      "metadata": {
        "colab_type": "text",
        "id": "view-in-github"
      },
      "source": [
        "<a href=\"https://colab.research.google.com/github/OshanJayawardana/vip-cup/blob/main/FusingGlobalandLocal-main/Global_Local_Fusion.ipynb\" target=\"_parent\"><img src=\"https://colab.research.google.com/assets/colab-badge.svg\" alt=\"Open In Colab\"/></a>"
      ]
    },
    {
      "cell_type": "code",
      "execution_count": null,
      "metadata": {
        "id": "q8-L7xnphv0F"
      },
      "outputs": [],
      "source": [
        "!pip3 install torch torchvision -f https://download.pytorch.org/whl/torch_stable.html\n",
        "!pip install opencv-python\n",
        "!pip install scipy\n",
        "!pip install imageio\n",
        "!pip install tensorboardX\n",
        "!pip install python-util"
      ]
    },
    {
      "cell_type": "code",
      "execution_count": null,
      "metadata": {
        "id": "0K75hrPRQa54"
      },
      "outputs": [],
      "source": [
        "import warnings\n",
        "warnings.filterwarnings('ignore', category=DeprecationWarning)\n",
        "import os\n",
        "import shutil\n",
        "import random\n",
        "random.seed(42)\n",
        "import tensorboardX"
      ]
    },
    {
      "cell_type": "code",
      "execution_count": null,
      "metadata": {
        "colab": {
          "base_uri": "https://localhost:8080/"
        },
        "id": "1d90j3XtiIks",
        "outputId": "2b5ca2cd-20a8-4b99-b28f-b9d3ecfbbbd5"
      },
      "outputs": [
        {
          "name": "stdout",
          "output_type": "stream",
          "text": [
            "Mounted at /content/gdrive\n"
          ]
        }
      ],
      "source": [
        "from google.colab import drive\n",
        "drive.mount('/content/gdrive')"
      ]
    },
    {
      "cell_type": "code",
      "execution_count": null,
      "metadata": {
        "id": "UAykYRsiDzNf"
      },
      "outputs": [],
      "source": [
        "!unzip \"/content/gdrive/MyDrive/Datasets/pro_dataset.zip\" -d \"/content/pro_data/\" &> /dev/null"
      ]
    },
    {
      "cell_type": "code",
      "execution_count": null,
      "metadata": {
        "colab": {
          "base_uri": "https://localhost:8080/"
        },
        "id": "qfrq_O1684KR",
        "outputId": "931f0291-bf09-4961-b73b-bf8da8e6f78b"
      },
      "outputs": [
        {
          "name": "stdout",
          "output_type": "stream",
          "text": [
            "123322 original real images\n",
            "115999 original fake images\n",
            "\n"
          ]
        }
      ],
      "source": [
        "REAL = \"/content/pro_data/data_pro/real/\"\n",
        "FAKE = \"/content/pro_data/data_pro/synt/\"\n",
        "\n",
        "print(f\"{len(os.listdir(REAL))} original real images\")\n",
        "print(f\"{len(os.listdir(FAKE))} original fake images\\n\")\n",
        "\n",
        "# 123322 original real images\n",
        "# 115999 original fake images"
      ]
    },
    {
      "cell_type": "code",
      "execution_count": null,
      "metadata": {
        "id": "AWwkfgpMbigW"
      },
      "outputs": [],
      "source": [
        "root_dir = '/content/dataset'\n",
        "os.makedirs(root_dir)\n",
        "\n",
        "def create_train_val_dirs(root_path):\n",
        "  path_train_real = os.path.join(root_path, \"train/0_real\")\n",
        "  path_val_real = os.path.join(root_path, \"val/0_real\")\n",
        "  path_train_fake = os.path.join(root_path, \"train/1_fake\")\n",
        "  path_val_fake = os.path.join(root_path, \"val/1_fake\")\n",
        "\n",
        "  os.makedirs(path_train_real)\n",
        "  os.makedirs(path_val_real)\n",
        "  os.makedirs(path_train_fake)\n",
        "  os.makedirs(path_val_fake)\n",
        "\n",
        "def split_data(SOURCE, TRAINING, VALIDATION, SPLIT_SIZE):\n",
        "\n",
        "  files = []\n",
        "  content_lst = os.listdir(SOURCE)\n",
        "\n",
        "  for file in content_lst:\n",
        "    file_path = os.path.join(SOURCE, file)\n",
        "    if os.path.getsize(file_path) == 0:\n",
        "      print(\"filename is zero length, so ignoring.\")\n",
        "    else:\n",
        "      files.append(file)\n",
        "\n",
        "  training_len = int(len(files) * SPLIT_SIZE)\n",
        "  val_len = training_len + int(len(files) * ((1 - SPLIT_SIZE)/2))\n",
        "  shuffled_lst = random.sample(files, len(files))\n",
        "\n",
        "  train_set = shuffled_lst[ : training_len]\n",
        "  val_set = shuffled_lst[training_len : val_len]\n",
        "\n",
        "  for train_file in train_set: \n",
        "    train_path = os.path.join(SOURCE, train_file)\n",
        "    dest_path = os.path.join(TRAINING, train_file)\n",
        "    shutil.copyfile(train_path, dest_path)\n",
        "    os.remove(train_path)\n",
        "\n",
        "  for val_file in val_set: \n",
        "    val_path = os.path.join(SOURCE, val_file)\n",
        "    dest_path = os.path.join(VALIDATION, val_file)\n",
        "    shutil.copyfile(val_path, dest_path)\n",
        "    os.remove(val_path)"
      ]
    },
    {
      "cell_type": "code",
      "execution_count": null,
      "metadata": {
        "id": "5hQFIMPjdBps"
      },
      "outputs": [],
      "source": [
        "create_train_val_dirs(root_path=root_dir)"
      ]
    },
    {
      "cell_type": "code",
      "execution_count": null,
      "metadata": {
        "colab": {
          "base_uri": "https://localhost:8080/"
        },
        "id": "ria4yve3dY_v",
        "outputId": "ce406e22-002b-4584-b34b-2835cef3e34c"
      },
      "outputs": [
        {
          "name": "stdout",
          "output_type": "stream",
          "text": [
            "['img046282.jpg', 'img001646.jpg', 'img005932.jpg', 'img011243.jpg', 'img076624.jpg', 'img021984.jpg', 'img039940.jpg', 'img057234.jpg', 'img053862.jpg', 'img101162.jpg']\n",
            "['img056812.jpg', 'img100127.jpg', 'img050284.jpg', 'img011366.jpg', 'img036421.jpg', 'img021985.jpg', 'img033047.jpg', 'img078423.jpg', 'img087964.jpg', 'img047714.jpg']\n",
            "['img100272.jpg', 'img110758.jpg', 'img027952.jpg', 'img113151.jpg', 'img055311.jpg', 'img044279.jpg', 'img025792.jpg', 'img032109.jpg', 'img083317.jpg', 'img101079.jpg']\n",
            "['img073483.jpg', 'img017832.jpg', 'img115953.jpg', 'img102243.jpg', 'img103132.jpg', 'img070791.jpg', 'img022416.jpg', 'img039184.jpg', 'img013514.jpg', 'img075592.jpg']\n",
            "12333 remaining real images in original location \n",
            "11601 remaining fake images in original location\n",
            "\n",
            "98657 real images for training\n",
            "92799 fake images for training\n",
            "12332 real images for validation\n",
            "11599 fake images for validation\n"
          ]
        }
      ],
      "source": [
        "REAL_SOURCE_DIR = \"/content/pro_data/data_pro/real/\"\n",
        "FAKE_SOURCE_DIR = \"/content/pro_data/data_pro/synt/\"\n",
        "\n",
        "TRAINING_DIR = \"/content/dataset/train/\"\n",
        "VAL_DIR = \"/content/dataset/val/\"\n",
        "\n",
        "TRAINING_REAL_DIR = os.path.join(TRAINING_DIR, \"0_real/\")\n",
        "VAL_REAL_DIR = os.path.join(VAL_DIR, \"0_real/\")\n",
        "\n",
        "TRAINING_FAKE_DIR = os.path.join(TRAINING_DIR, \"1_fake/\")\n",
        "VAL_FAKE_DIR = os.path.join(VAL_DIR, \"1_fake/\")\n",
        "\n",
        "split_size = .8\n",
        "\n",
        "split_data(REAL_SOURCE_DIR, TRAINING_REAL_DIR, VAL_REAL_DIR, split_size)\n",
        "split_data(FAKE_SOURCE_DIR, TRAINING_FAKE_DIR, VAL_FAKE_DIR, split_size)\n",
        "\n",
        "print(f\"{len(os.listdir(REAL_SOURCE_DIR))} remaining real images in original location \")\n",
        "print(f\"{len(os.listdir(FAKE_SOURCE_DIR))} remaining fake images in original location\\n\")\n",
        "\n",
        "print(f\"{len(os.listdir(TRAINING_REAL_DIR))} real images for training\")\n",
        "print(f\"{len(os.listdir(TRAINING_FAKE_DIR))} fake images for training\")\n",
        "print(f\"{len(os.listdir(VAL_REAL_DIR))} real images for validation\")\n",
        "print(f\"{len(os.listdir(VAL_FAKE_DIR))} fake images for validation\")"
      ]
    },
    {
      "cell_type": "code",
      "execution_count": null,
      "metadata": {
        "id": "cdgmwi4h9aYP"
      },
      "outputs": [],
      "source": [
        "os.rename(\"/content/pro_data\",\"/content/test\")\n",
        "os.rename(\"/content/test/data_pro\",\"/content/test/general\")\n",
        "os.rename(\"/content/test/arch1/real\",\"/content/test/arch1/0_real\")\n",
        "os.rename(\"/content/test/arch1/synt\",\"/content/test/arch1/1_fake\")"
      ]
    },
    {
      "cell_type": "code",
      "execution_count": null,
      "metadata": {
        "colab": {
          "base_uri": "https://localhost:8080/"
        },
        "id": "7583oTkfiVjt",
        "outputId": "b381e313-4e8f-440a-cec8-a6cef60246c4"
      },
      "outputs": [
        {
          "name": "stdout",
          "output_type": "stream",
          "text": [
            "/content/gdrive/MyDrive/FusingGlobalandLocal\n"
          ]
        }
      ],
      "source": [
        "%cd \"/content/gdrive/MyDrive/FusingGlobalandLocal\""
      ]
    },
    {
      "cell_type": "markdown",
      "metadata": {},
      "source": [
        "## Train model"
      ]
    },
    {
      "cell_type": "code",
      "execution_count": null,
      "metadata": {
        "colab": {
          "base_uri": "https://localhost:8080/"
        },
        "id": "9-iUn6aw8S9u",
        "outputId": "39dd5b03-bff2-4f51-ca6a-fddd5638fa1a"
      },
      "outputs": [
        {
          "name": "stdout",
          "output_type": "stream",
          "text": [
            "----------------- Options ---------------\n",
            "                     arch: res50                         \n",
            "               batch_size: 16                            \t[default: 64]\n",
            "                    beta1: 0.9                           \n",
            "                blur_prob: 0.1                           \t[default: 0]\n",
            "                 blur_sig: 0.0,3.0                       \t[default: 0.5]\n",
            "          checkpoints_dir: ./checkpoints                 \n",
            "                class_bal: False                         \n",
            "           continue_train: False                         \n",
            "                 cropSize: 200                           \n",
            "                 data_aug: False                         \n",
            "                 dataroot: /content/dataset              \t[default: ./dataset/]\n",
            "          earlystop_epoch: 10                            \n",
            "                    epoch: latest                        \n",
            "              epoch_count: 1                             \n",
            "                  gpu_ids: 0                             \n",
            "                init_gain: 0.02                          \n",
            "                init_type: normal                        \n",
            "                  isTrain: True                          \t[default: None]\n",
            "               jpg_method: cv2,pil                       \t[default: cv2]\n",
            "                 jpg_prob: 0.1                           \t[default: 0]\n",
            "                 jpg_qual: 30,100                        \t[default: 75]\n",
            "               last_epoch: -1                            \n",
            "                 loadSize: 256                           \n",
            "                loss_freq: 400                           \n",
            "                       lr: 0.0001                        \n",
            "                     mode: binary                        \n",
            "                     name: test_1                        \t[default: experiment_name]\n",
            "                new_optim: False                         \n",
            "                    niter: 5                             \t[default: 10000]\n",
            "                  no_flip: False                         \n",
            "              num_threads: 4                             \n",
            "                    optim: adam                          \n",
            "           resize_or_crop: scale_and_crop                \n",
            "                rz_interp: bilinear                      \n",
            "          save_epoch_freq: 20                            \n",
            "         save_latest_freq: 2000                          \n",
            "           serial_batches: False                         \n",
            "                   suffix:                               \n",
            "              train_split: train                         \n",
            "                val_split: val                           \n",
            "----------------- End -------------------\n",
            "directory, realimg, fakeimg: /content/dataset/train/ 98657 92799\n",
            ">>> Size of dataset:  191456\n",
            "/usr/local/lib/python3.7/dist-packages/torch/utils/data/dataloader.py:566: UserWarning: This DataLoader will create 4 worker processes in total. Our suggested max number of worker in current system is 2, which is smaller than what this DataLoader is going to create. Please be aware that excessive worker creation might get DataLoader running slow or even freeze, lower the worker number to avoid potential slowness/freeze if necessary.\n",
            "  cpuset_checked))\n",
            "#training images = 11966\n",
            "Downloading: \"https://download.pytorch.org/models/resnet50-19c8e357.pth\" to /root/.cache/torch/hub/checkpoints/resnet50-19c8e357.pth\n",
            "100% 97.8M/97.8M [00:03<00:00, 25.8MB/s]\n",
            "epoch numbre is = 0\n",
            "/content/gdrive/MyDrive/FusingGlobalandLocal/networks/trainer.py:47: UserWarning: __floordiv__ is deprecated, and its behavior will change in a future version of pytorch. It currently rounds toward 0 (like the 'trunc' function NOT 'floor'). This results in incorrect rounding for negative values. To keep the current behavior, use torch.div(a, b, rounding_mode='trunc'), or for actual floor division, use torch.div(a, b, rounding_mode='floor').\n",
            "  scale_base=(scale-scale_min).long()//2 #torch.div(scale-scale_min,2,rounding_mode='floor')\n",
            "/content/gdrive/MyDrive/FusingGlobalandLocal/networks/trainer.py:59: UserWarning: __floordiv__ is deprecated, and its behavior will change in a future version of pytorch. It currently rounds toward 0 (like the 'trunc' function NOT 'floor'). This results in incorrect rounding for negative values. To keep the current behavior, use torch.div(a, b, rounding_mode='trunc'), or for actual floor division, use torch.div(a, b, rounding_mode='floor').\n",
            "  loc_max=torch.stack((loc_max_flat//score_width, loc_max_flat%score_width), dim=1)\n",
            "Train loss: 0.29120492935180664 at step: 400\n",
            "Train loss: 0.22872646152973175 at step: 800\n",
            "Train loss: 0.3875381648540497 at step: 1200\n",
            "Train loss: 0.18516963720321655 at step: 1600\n",
            "Train loss: 0.027334656566381454 at step: 2000\n",
            "saving the latest model test_1 (epoch 0, model.total_steps 2000)\n",
            "could not read the, hence skipping it.\n",
            "saving the model at the end of epoch 0, iters 2396\n",
            "directory, realimg, fakeimg: /content/dataset/val/ 12332 11599\n",
            ">>> Size of dataset:  23931\n",
            "number of validation dataset:  1496\n",
            "(Val @ epoch 0) acc: 0.9337261292883707\n",
            "Validation accuracy increased (-inf --> 0.933726).  Saving model ...\n",
            "epoch numbre is = 1\n",
            "/usr/local/lib/python3.7/dist-packages/torch/utils/data/dataloader.py:566: UserWarning: This DataLoader will create 4 worker processes in total. Our suggested max number of worker in current system is 2, which is smaller than what this DataLoader is going to create. Please be aware that excessive worker creation might get DataLoader running slow or even freeze, lower the worker number to avoid potential slowness/freeze if necessary.\n",
            "  cpuset_checked))\n",
            "/content/gdrive/MyDrive/FusingGlobalandLocal/networks/trainer.py:47: UserWarning: __floordiv__ is deprecated, and its behavior will change in a future version of pytorch. It currently rounds toward 0 (like the 'trunc' function NOT 'floor'). This results in incorrect rounding for negative values. To keep the current behavior, use torch.div(a, b, rounding_mode='trunc'), or for actual floor division, use torch.div(a, b, rounding_mode='floor').\n",
            "  scale_base=(scale-scale_min).long()//2 #torch.div(scale-scale_min,2,rounding_mode='floor')\n",
            "/content/gdrive/MyDrive/FusingGlobalandLocal/networks/trainer.py:59: UserWarning: __floordiv__ is deprecated, and its behavior will change in a future version of pytorch. It currently rounds toward 0 (like the 'trunc' function NOT 'floor'). This results in incorrect rounding for negative values. To keep the current behavior, use torch.div(a, b, rounding_mode='trunc'), or for actual floor division, use torch.div(a, b, rounding_mode='floor').\n",
            "  loc_max=torch.stack((loc_max_flat//score_width, loc_max_flat%score_width), dim=1)\n",
            "Train loss: 0.1128191202878952 at step: 2400\n",
            "Train loss: 0.08809100091457367 at step: 2800\n",
            "Train loss: 0.257318913936615 at step: 3200\n",
            "Train loss: 0.15693531930446625 at step: 3600\n",
            "Train loss: 0.17625610530376434 at step: 4000\n",
            "saving the latest model test_1 (epoch 1, model.total_steps 4000)\n",
            "Train loss: 0.2220846563577652 at step: 4400\n",
            "Train loss: 0.04586808383464813 at step: 4800\n",
            "Train loss: 0.09351394325494766 at step: 5200\n",
            "Train loss: 0.022404640913009644 at step: 5600\n",
            "Train loss: 0.19676023721694946 at step: 6000\n",
            "saving the latest model test_1 (epoch 1, model.total_steps 6000)\n",
            "Train loss: 0.037975676357746124 at step: 6400\n",
            "Train loss: 0.08552543818950653 at step: 6800\n",
            "Train loss: 0.35392406582832336 at step: 7200\n",
            "Train loss: 0.1846698820590973 at step: 7600\n",
            "Train loss: 0.08442213386297226 at step: 8000\n",
            "saving the latest model test_1 (epoch 1, model.total_steps 8000)\n",
            "could not read the, hence skipping it.\n",
            "saving the model at the end of epoch 1, iters 8384\n",
            "directory, realimg, fakeimg: /content/dataset/val/ 12332 11599\n",
            ">>> Size of dataset:  23931\n",
            "number of validation dataset:  1496\n",
            "(Val @ epoch 1) acc: 0.9436713885754878\n",
            "Validation accuracy increased (0.933726 --> 0.943671).  Saving model ...\n",
            "epoch numbre is = 2\n",
            "/usr/local/lib/python3.7/dist-packages/torch/utils/data/dataloader.py:566: UserWarning: This DataLoader will create 4 worker processes in total. Our suggested max number of worker in current system is 2, which is smaller than what this DataLoader is going to create. Please be aware that excessive worker creation might get DataLoader running slow or even freeze, lower the worker number to avoid potential slowness/freeze if necessary.\n",
            "  cpuset_checked))\n",
            "/content/gdrive/MyDrive/FusingGlobalandLocal/networks/trainer.py:47: UserWarning: __floordiv__ is deprecated, and its behavior will change in a future version of pytorch. It currently rounds toward 0 (like the 'trunc' function NOT 'floor'). This results in incorrect rounding for negative values. To keep the current behavior, use torch.div(a, b, rounding_mode='trunc'), or for actual floor division, use torch.div(a, b, rounding_mode='floor').\n",
            "  scale_base=(scale-scale_min).long()//2 #torch.div(scale-scale_min,2,rounding_mode='floor')\n",
            "/content/gdrive/MyDrive/FusingGlobalandLocal/networks/trainer.py:59: UserWarning: __floordiv__ is deprecated, and its behavior will change in a future version of pytorch. It currently rounds toward 0 (like the 'trunc' function NOT 'floor'). This results in incorrect rounding for negative values. To keep the current behavior, use torch.div(a, b, rounding_mode='trunc'), or for actual floor division, use torch.div(a, b, rounding_mode='floor').\n",
            "  loc_max=torch.stack((loc_max_flat//score_width, loc_max_flat%score_width), dim=1)\n",
            "Train loss: 0.07549774646759033 at step: 8400\n",
            "Train loss: 0.0994066596031189 at step: 8800\n",
            "could not read the, hence skipping it.\n",
            "saving the model at the end of epoch 2, iters 9153\n",
            "directory, realimg, fakeimg: /content/dataset/val/ 12332 11599\n",
            ">>> Size of dataset:  23931\n",
            "number of validation dataset:  1496\n",
            "(Val @ epoch 2) acc: 0.9629768918975388\n",
            "Validation accuracy increased (0.943671 --> 0.962977).  Saving model ...\n",
            "epoch numbre is = 3\n",
            "/usr/local/lib/python3.7/dist-packages/torch/utils/data/dataloader.py:566: UserWarning: This DataLoader will create 4 worker processes in total. Our suggested max number of worker in current system is 2, which is smaller than what this DataLoader is going to create. Please be aware that excessive worker creation might get DataLoader running slow or even freeze, lower the worker number to avoid potential slowness/freeze if necessary.\n",
            "  cpuset_checked))\n",
            "/content/gdrive/MyDrive/FusingGlobalandLocal/networks/trainer.py:47: UserWarning: __floordiv__ is deprecated, and its behavior will change in a future version of pytorch. It currently rounds toward 0 (like the 'trunc' function NOT 'floor'). This results in incorrect rounding for negative values. To keep the current behavior, use torch.div(a, b, rounding_mode='trunc'), or for actual floor division, use torch.div(a, b, rounding_mode='floor').\n",
            "  scale_base=(scale-scale_min).long()//2 #torch.div(scale-scale_min,2,rounding_mode='floor')\n",
            "/content/gdrive/MyDrive/FusingGlobalandLocal/networks/trainer.py:59: UserWarning: __floordiv__ is deprecated, and its behavior will change in a future version of pytorch. It currently rounds toward 0 (like the 'trunc' function NOT 'floor'). This results in incorrect rounding for negative values. To keep the current behavior, use torch.div(a, b, rounding_mode='trunc'), or for actual floor division, use torch.div(a, b, rounding_mode='floor').\n",
            "  loc_max=torch.stack((loc_max_flat//score_width, loc_max_flat%score_width), dim=1)\n",
            "Train loss: 0.029103033244609833 at step: 9200\n",
            "Train loss: 0.054083891212940216 at step: 9600\n",
            "Train loss: 0.1984269618988037 at step: 10000\n",
            "saving the latest model test_1 (epoch 3, model.total_steps 10000)\n",
            "Train loss: 0.01010167971253395 at step: 10400\n",
            "Train loss: 0.06480538845062256 at step: 10800\n",
            "Train loss: 0.04678747057914734 at step: 11200\n",
            "Train loss: 0.12259504199028015 at step: 11600\n",
            "Train loss: 0.05073061212897301 at step: 12000\n",
            "saving the latest model test_1 (epoch 3, model.total_steps 12000)\n",
            "Train loss: 0.03901618346571922 at step: 12400\n",
            "Train loss: 0.028922680765390396 at step: 12800\n",
            "Train loss: 0.20793864130973816 at step: 13200\n",
            "Train loss: 0.03269142657518387 at step: 13600\n",
            "could not read the, hence skipping it.\n",
            "saving the model at the end of epoch 3, iters 13650\n",
            "directory, realimg, fakeimg: /content/dataset/val/ 12332 11599\n",
            ">>> Size of dataset:  23931\n",
            "number of validation dataset:  1496\n",
            "(Val @ epoch 3) acc: 0.9585892775061635\n",
            "EarlyStopping counter: 1 out of 10\n",
            "epoch numbre is = 4\n",
            "/usr/local/lib/python3.7/dist-packages/torch/utils/data/dataloader.py:566: UserWarning: This DataLoader will create 4 worker processes in total. Our suggested max number of worker in current system is 2, which is smaller than what this DataLoader is going to create. Please be aware that excessive worker creation might get DataLoader running slow or even freeze, lower the worker number to avoid potential slowness/freeze if necessary.\n",
            "  cpuset_checked))\n",
            "/content/gdrive/MyDrive/FusingGlobalandLocal/networks/trainer.py:47: UserWarning: __floordiv__ is deprecated, and its behavior will change in a future version of pytorch. It currently rounds toward 0 (like the 'trunc' function NOT 'floor'). This results in incorrect rounding for negative values. To keep the current behavior, use torch.div(a, b, rounding_mode='trunc'), or for actual floor division, use torch.div(a, b, rounding_mode='floor').\n",
            "  scale_base=(scale-scale_min).long()//2 #torch.div(scale-scale_min,2,rounding_mode='floor')\n",
            "/content/gdrive/MyDrive/FusingGlobalandLocal/networks/trainer.py:59: UserWarning: __floordiv__ is deprecated, and its behavior will change in a future version of pytorch. It currently rounds toward 0 (like the 'trunc' function NOT 'floor'). This results in incorrect rounding for negative values. To keep the current behavior, use torch.div(a, b, rounding_mode='trunc'), or for actual floor division, use torch.div(a, b, rounding_mode='floor').\n",
            "  loc_max=torch.stack((loc_max_flat//score_width, loc_max_flat%score_width), dim=1)\n",
            "Train loss: 0.12151767313480377 at step: 14000\n",
            "saving the latest model test_1 (epoch 4, model.total_steps 14000)\n",
            "Train loss: 0.1644720584154129 at step: 14400\n",
            "Train loss: 0.08243868499994278 at step: 14800\n",
            "Train loss: 0.04732707515358925 at step: 15200\n"
          ]
        }
      ],
      "source": [
        "!export CUDA_VISIBLE_DEVICES=0;\n",
        "!python train.py --name test_2 --blur_prob 0.1 --blur_sig 0.0,3.0 --jpg_prob 0.1 --jpg_method cv2,pil --niter 5 --jpg_qual 30,100 --dataroot /content/dataset --batch_size 16 --lr 0.0001 --gpu_ids 0"
      ]
    },
    {
      "cell_type": "markdown",
      "metadata": {
        "id": "a0B6NIixqy2D"
      },
      "source": [
        "## Testing"
      ]
    },
    {
      "cell_type": "code",
      "execution_count": null,
      "metadata": {
        "colab": {
          "base_uri": "https://localhost:8080/"
        },
        "id": "mNPlJV3rQ31s",
        "outputId": "819b863c-eafd-4a15-c976-fdcdc91e2f84"
      },
      "outputs": [
        {
          "name": "stdout",
          "output_type": "stream",
          "text": [
            "testing progan-generated images\n",
            "directory, realimg, fakeimg: /content/test/progan 12333 11601\n",
            ">>> Size of dataset:  23934\n",
            "/usr/local/lib/python3.7/dist-packages/torch/utils/data/dataloader.py:566: UserWarning: This DataLoader will create 4 worker processes in total. Our suggested max number of worker in current system is 2, which is smaller than what this DataLoader is going to create. Please be aware that excessive worker creation might get DataLoader running slow or even freeze, lower the worker number to avoid potential slowness/freeze if necessary.\n",
            "  cpuset_checked))\n",
            "/content/gdrive/MyDrive/FusingGlobalandLocal/networks/trainer.py:47: UserWarning: __floordiv__ is deprecated, and its behavior will change in a future version of pytorch. It currently rounds toward 0 (like the 'trunc' function NOT 'floor'). This results in incorrect rounding for negative values. To keep the current behavior, use torch.div(a, b, rounding_mode='trunc'), or for actual floor division, use torch.div(a, b, rounding_mode='floor').\n",
            "  scale_base=(scale-scale_min).long()//2 #torch.div(scale-scale_min,2,rounding_mode='floor')\n",
            "/content/gdrive/MyDrive/FusingGlobalandLocal/networks/trainer.py:59: UserWarning: __floordiv__ is deprecated, and its behavior will change in a future version of pytorch. It currently rounds toward 0 (like the 'trunc' function NOT 'floor'). This results in incorrect rounding for negative values. To keep the current behavior, use torch.div(a, b, rounding_mode='trunc'), or for actual floor division, use torch.div(a, b, rounding_mode='floor').\n",
            "  loc_max=torch.stack((loc_max_flat//score_width, loc_max_flat%score_width), dim=1)\n",
            "batch number 50/374\n",
            "batch number 100/374\n",
            "batch number 150/374\n",
            "batch number 200/374\n",
            "batch number 250/374\n",
            "batch number 300/374\n",
            "batch number 350/374\n",
            "oa: 0.9622294643603242; auc: 0.9908633459037218; ap:0.9928107248372684\n",
            "Traceback (most recent call last):\n",
            "  File \"eval.py\", line 76, in <module>\n",
            "    with open(csv_name, 'a') as f:\n",
            "FileNotFoundError: [Errno 2] No such file or directory: \"/content + '/model_epoch_best.csv\"\n"
          ]
        }
      ],
      "source": [
        "!export CUDA_VISIBLE_DEVICES=0;\n",
        "\n",
        "!python eval.py "
      ]
    }
  ],
  "metadata": {
    "accelerator": "GPU",
    "colab": {
      "collapsed_sections": [],
      "include_colab_link": true,
      "name": "Global_Local_Fusion.ipynb",
      "provenance": []
    },
    "gpuClass": "standard",
    "kernelspec": {
      "display_name": "Python 3",
      "name": "python3"
    },
    "language_info": {
      "name": "python"
    }
  },
  "nbformat": 4,
  "nbformat_minor": 0
}
